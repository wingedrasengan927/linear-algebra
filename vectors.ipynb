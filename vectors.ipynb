{
 "cells": [
  {
   "cell_type": "code",
   "execution_count": 2,
   "metadata": {},
   "outputs": [],
   "source": [
    "import numpy as np\n",
    "import pytest\n",
    "import math"
   ]
  },
  {
   "cell_type": "code",
   "execution_count": null,
   "metadata": {},
   "outputs": [],
   "source": []
  },
  {
   "cell_type": "code",
   "execution_count": 3,
   "metadata": {},
   "outputs": [],
   "source": [
    "class Vector:\n",
    "    '''\n",
    "    A class to represent vectors and perform various operations on them\n",
    "    \n",
    "    In this class, we carry out operations on vectors only if they have the same dimensions\n",
    "    to preserve the dimensionality\n",
    "    '''\n",
    "    def __init__(self, components):\n",
    "        '''\n",
    "        Parameters:\n",
    "        -------------\n",
    "        components: list or array\n",
    "        '''\n",
    "        if type(components) not in [list, np.ndarray]:\n",
    "            raise ValueError(\"Invalid Type. A vector should be a one dimensional list or a numpy array\")\n",
    "        self.components = np.array(components)\n",
    "        \n",
    "        dimensions = self.components.shape\n",
    "        if len(dimensions) > 1:\n",
    "            raise ValueError(\"Multiple Dimensions Found. A vector should have a single dimensions\")\n",
    "            \n",
    "        self.dimensions = dimensions[0]\n",
    "            \n",
    "    def __add__(self, other):\n",
    "        '''\n",
    "        Addition of two vectors\n",
    "        '''\n",
    "        if type(self) != type(other):\n",
    "            raise TypeError(\"Only a vector can be added to another vector\")\n",
    "        if self.dimensions != other.dimensions:\n",
    "            raise TypeError(\"Vectors with different dimensions cannot be added\")\n",
    "        return self.__class__(self.components + other.components)\n",
    "    \n",
    "    def __mul__(self, other):\n",
    "        '''\n",
    "        Multiplication of a vector with a scalar\n",
    "        '''\n",
    "        if type(other) not in [int, float, np.int32, np.float64]:\n",
    "            raise TypeError(\"A vector can be multiplied only by a scalar using this operation\")\n",
    "        return self.__class__(self.components * other)\n",
    "    \n",
    "    def __rmul__(self, other):\n",
    "        '''\n",
    "        Multiplication of a vector with a scalar\n",
    "        '''\n",
    "        if type(other) not in [int, float, np.int32, np.float64]:\n",
    "            raise TypeError(\"A vector can be multiplied only by a scalar using this operation\")\n",
    "        return self.__class__(self.components * other)\n",
    "    \n",
    "    def __sub__(self, other):\n",
    "        '''\n",
    "        Addition of two vectors\n",
    "        '''\n",
    "        if type(self) != type(other):\n",
    "            raise TypeError(\"Only a vector can be added to another vector\")\n",
    "        if self.dimensions != other.dimensions:\n",
    "            raise TypeError(\"Vectors with different dimensions cannot be subtracted\")\n",
    "        return self.__class__(self.components - other.components)\n",
    "    \n",
    "    def __repr__(self):\n",
    "        return \"Vector: {}\".format(self.components)\n",
    "    \n",
    "    def dot_product(self, other): \n",
    "        '''\n",
    "        Dot product between two vectors\n",
    "        '''\n",
    "        if type(self) != type(other):\n",
    "            raise TypeError(\"Dot product is possible between only two vectors\")\n",
    "        if self.dimensions != other.dimensions:\n",
    "            raise TypeError(\"Dot product between two vectors of different dimensions cannot be computed\")\n",
    "        return self.components @ other.components\n",
    "    \n",
    "    def get_magnitude(self):\n",
    "        '''\n",
    "        Get magnitude/length of the vector\n",
    "        '''\n",
    "        return math.sqrt(self.dot_product(self))\n",
    "\n",
    "    def get_unit_vector(self): \n",
    "        '''\n",
    "        Return the normalized form of the vector\n",
    "        '''\n",
    "        length = self.get_magnitude()\n",
    "        unit_vector = self * (1/length)\n",
    "        return unit_vector\n",
    "    \n",
    "    def cross_product(self, other):\n",
    "        '''\n",
    "        Note: Geometrically, a cross product is defined between vectors of dimension 3\n",
    "        '''\n",
    "        if type(self) != type(other):\n",
    "            raise TypeError(\"Projection is possible between only two vectors\")\n",
    "        if self.dimensions != other.dimensions:\n",
    "            raise TypeError(\"cross product between two vectors of different dimensions cannot be computed\")\n",
    "        return self.__class__(np.cross(self.components, other.components))\n",
    "    \n",
    "    def angle_between(self, other, radians=False):\n",
    "        '''\n",
    "        Compute angle between two vectors.\n",
    "        to understand the intuition behind angle between n-dim vectors, refer to the below article:\n",
    "        https://onlinemschool.com/math/library/vector/angl/#:~:text=The%20cosine%20of%20the%20angle,the%20product%20of%20vector%20magnitude.\n",
    "        '''\n",
    "        if type(self) != type(other):\n",
    "            raise TypeError(\"Angle can be computed only between two vectors\")\n",
    "        if self.dimensions != other.dimensions:\n",
    "            raise TypeError(\"Angle between two vectors of different dimensions cannot be computed\")\n",
    "        u, v = self, other\n",
    "        u_length = u.get_magnitude()\n",
    "        v_length = v.get_magnitude()\n",
    "        u_dot_v = u.dot_product(v)\n",
    "        cos_angle = u_dot_v/(u_length*v_length)\n",
    "        angle = math.acos(cos_angle)\n",
    "        if radians:\n",
    "            return angle\n",
    "        angle_in_deg = math.degrees(angle)\n",
    "        return angle_in_deg\n",
    "        \n",
    "    def project_onto(self, other):\n",
    "        '''\n",
    "        projection of the vector self onto the vector other\n",
    "        '''\n",
    "        if type(self) != type(other):\n",
    "            raise TypeError(\"Projection is possible between only two vectors\") \n",
    "        if self.dimensions != other.dimensions:\n",
    "            raise TypeError(\"projection cannot be computed between two vectors of different dimensions\")\n",
    "        length_other = other.get_magnitude()\n",
    "        projection = (self.dot_product(other)/length_other**2) * other\n",
    "        return projection\n",
    "    \n",
    "    def to_mag_ang_notation(self):\n",
    "        if len(self.components) > 2:\n",
    "            raise TypeError(\"Only vectors of dimension 2 can be converted to magnitude, angle notation\")\n",
    "        x_axis_vector = self.__class__([1, 0])\n",
    "        angle_degrees = self.angle_between(x_axis_vector)\n",
    "        x_component = self.components[0]\n",
    "        if x_component < 0:\n",
    "            angle_degrees = 360 - angle_degrees\n",
    "        magnitude = self.get_magnitude()\n",
    "        return Vector2D(magnitude, angle_degrees)"
   ]
  },
  {
   "cell_type": "code",
   "execution_count": 4,
   "metadata": {},
   "outputs": [],
   "source": [
    "class Vector2D:\n",
    "    '''\n",
    "    Magnitude, Angle representation of a Vector\n",
    "    '''\n",
    "    def __init__(self, magnitude, angle):\n",
    "        if type(magnitude) not in [int, float, np.int32, np.float64]:\n",
    "            raise ValueError(\"Magnitude should be a real number\")\n",
    "        if type(angle) not in [int, float, np.int32, np.float64]:\n",
    "            raise ValueError(\"Angle should be a real number\")\n",
    "        if angle > 360 or angle < 0:\n",
    "            raise ValueError(\"Angle should be between 0 and 360\")\n",
    "        self.magnitude = magnitude\n",
    "        self.angle = angle\n",
    "        \n",
    "    def to_component_notation(self):\n",
    "        angle_in_radians = math.radians(self.angle)\n",
    "        x_component = self.magnitude * math.cos(angle_in_radians)\n",
    "        y_component = self.magnitude * math.sin(angle_in_radians)\n",
    "        vector = Vector([x_component, y_component])\n",
    "        return vector\n",
    "    \n",
    "    def __repr__(self):\n",
    "        return \"Vector: mag: {} | ang: {}\".format(self.magnitude, self.angle)"
   ]
  },
  {
   "cell_type": "code",
   "execution_count": null,
   "metadata": {},
   "outputs": [],
   "source": []
  },
  {
   "cell_type": "markdown",
   "metadata": {},
   "source": [
    "## Problems"
   ]
  },
  {
   "cell_type": "markdown",
   "metadata": {},
   "source": [
    "##### 1. compute the sum s = 4i + {mag(5) | ang(30)} and return the result in mag | ang notation"
   ]
  },
  {
   "cell_type": "code",
   "execution_count": 5,
   "metadata": {},
   "outputs": [],
   "source": [
    "v1 = Vector([4, 0])\n",
    "v2 = Vector2D(5, 30)"
   ]
  },
  {
   "cell_type": "code",
   "execution_count": 6,
   "metadata": {},
   "outputs": [],
   "source": [
    "s = v1 + v2.to_component_notation()"
   ]
  },
  {
   "cell_type": "code",
   "execution_count": 7,
   "metadata": {},
   "outputs": [
    {
     "data": {
      "text/plain": [
       "Vector: mag: 8.697184380670423 | ang: 16.705313806009972"
      ]
     },
     "execution_count": 7,
     "metadata": {},
     "output_type": "execute_result"
    }
   ],
   "source": [
    "# Answer\n",
    "s.to_mag_ang_notation()"
   ]
  },
  {
   "cell_type": "markdown",
   "metadata": {},
   "source": [
    "##### 2. The following forces are acting on a block: {mag(300) | ang(270)}, {mag(260) | ang(120)}, {mag(50) | ang(30)}. Calculate the net force"
   ]
  },
  {
   "cell_type": "code",
   "execution_count": 8,
   "metadata": {},
   "outputs": [],
   "source": [
    "v1 = Vector2D(300, 270)\n",
    "v2 = Vector2D(260, 120)\n",
    "v3 = Vector2D(50, 30)"
   ]
  },
  {
   "cell_type": "code",
   "execution_count": 9,
   "metadata": {},
   "outputs": [],
   "source": [
    "net_force = v1.to_component_notation() + v2.to_component_notation() + v3.to_component_notation()"
   ]
  },
  {
   "cell_type": "code",
   "execution_count": 10,
   "metadata": {},
   "outputs": [
    {
     "data": {
      "text/plain": [
       "Vector: mag: 100.00018504796662 | ang: 209.88977516584902"
      ]
     },
     "execution_count": 10,
     "metadata": {},
     "output_type": "execute_result"
    }
   ],
   "source": [
    "# Answer\n",
    "net_force.to_mag_ang_notation()"
   ]
  },
  {
   "cell_type": "code",
   "execution_count": null,
   "metadata": {},
   "outputs": [],
   "source": []
  },
  {
   "cell_type": "code",
   "execution_count": null,
   "metadata": {},
   "outputs": [],
   "source": []
  },
  {
   "cell_type": "code",
   "execution_count": null,
   "metadata": {},
   "outputs": [],
   "source": []
  },
  {
   "cell_type": "markdown",
   "metadata": {},
   "source": [
    "## Test Cases"
   ]
  },
  {
   "cell_type": "markdown",
   "metadata": {},
   "source": [
    "#### Test Type"
   ]
  },
  {
   "cell_type": "code",
   "execution_count": 4,
   "metadata": {},
   "outputs": [],
   "source": [
    "with pytest.raises(ValueError):\n",
    "    Vector(\"abc\")\n",
    "    Vector(123)"
   ]
  },
  {
   "cell_type": "markdown",
   "metadata": {},
   "source": [
    "#### Test Dimensions"
   ]
  },
  {
   "cell_type": "code",
   "execution_count": 5,
   "metadata": {},
   "outputs": [],
   "source": [
    "with pytest.raises(ValueError):\n",
    "    Vector([[1, 2, 3], [2, 3, 4]])"
   ]
  },
  {
   "cell_type": "markdown",
   "metadata": {},
   "source": [
    "### Test Operations"
   ]
  },
  {
   "cell_type": "code",
   "execution_count": null,
   "metadata": {},
   "outputs": [],
   "source": [
    "v1 = Vector([1, 2, 3])\n",
    "v2 = Vector([4, 5, 6])"
   ]
  },
  {
   "cell_type": "code",
   "execution_count": null,
   "metadata": {},
   "outputs": [],
   "source": [
    "print(v1)\n",
    "print(v2)"
   ]
  },
  {
   "cell_type": "code",
   "execution_count": null,
   "metadata": {},
   "outputs": [],
   "source": [
    "v1 + v2"
   ]
  },
  {
   "cell_type": "code",
   "execution_count": null,
   "metadata": {},
   "outputs": [],
   "source": [
    "v1 - v2"
   ]
  },
  {
   "cell_type": "code",
   "execution_count": null,
   "metadata": {},
   "outputs": [],
   "source": [
    "with pytest.raises(TypeError):\n",
    "    v1 * \"Acv\""
   ]
  },
  {
   "cell_type": "code",
   "execution_count": null,
   "metadata": {},
   "outputs": [],
   "source": [
    "v1 * 4"
   ]
  },
  {
   "cell_type": "code",
   "execution_count": null,
   "metadata": {},
   "outputs": [],
   "source": [
    "4 * v1"
   ]
  },
  {
   "cell_type": "code",
   "execution_count": null,
   "metadata": {},
   "outputs": [],
   "source": [
    "v1.dot_product(v2)"
   ]
  },
  {
   "cell_type": "code",
   "execution_count": null,
   "metadata": {},
   "outputs": [],
   "source": [
    "v1.get_magnitude()"
   ]
  },
  {
   "cell_type": "code",
   "execution_count": null,
   "metadata": {},
   "outputs": [],
   "source": [
    "v1.get_unit_vector()"
   ]
  },
  {
   "cell_type": "code",
   "execution_count": null,
   "metadata": {},
   "outputs": [],
   "source": [
    "v1.project_onto(v2)"
   ]
  },
  {
   "cell_type": "code",
   "execution_count": null,
   "metadata": {},
   "outputs": [],
   "source": [
    "v2.project_onto(v1)"
   ]
  },
  {
   "cell_type": "code",
   "execution_count": null,
   "metadata": {},
   "outputs": [],
   "source": [
    "v3 = Vector([1, 0, 0])\n",
    "v4 = Vector([0, 1, 0])"
   ]
  },
  {
   "cell_type": "code",
   "execution_count": null,
   "metadata": {},
   "outputs": [],
   "source": [
    "v3.cross_product(v4)"
   ]
  },
  {
   "cell_type": "code",
   "execution_count": null,
   "metadata": {},
   "outputs": [],
   "source": [
    "v4.cross_product(v3)"
   ]
  },
  {
   "cell_type": "code",
   "execution_count": null,
   "metadata": {},
   "outputs": [],
   "source": [
    "v3.angle_between(v4)"
   ]
  },
  {
   "cell_type": "code",
   "execution_count": null,
   "metadata": {},
   "outputs": [],
   "source": [
    "v4.angle_between(v3)"
   ]
  },
  {
   "cell_type": "code",
   "execution_count": null,
   "metadata": {},
   "outputs": [],
   "source": [
    "v3.project_onto(v4)"
   ]
  },
  {
   "cell_type": "code",
   "execution_count": null,
   "metadata": {},
   "outputs": [],
   "source": [
    "v4.project_onto(v3)"
   ]
  },
  {
   "cell_type": "markdown",
   "metadata": {},
   "source": [
    "### Vector2D"
   ]
  },
  {
   "cell_type": "code",
   "execution_count": 6,
   "metadata": {},
   "outputs": [],
   "source": [
    "a = Vector2D(10, 30)"
   ]
  },
  {
   "cell_type": "code",
   "execution_count": 7,
   "metadata": {},
   "outputs": [
    {
     "data": {
      "text/plain": [
       "Vector: mag: 10 | ang: 30"
      ]
     },
     "execution_count": 7,
     "metadata": {},
     "output_type": "execute_result"
    }
   ],
   "source": [
    "a"
   ]
  },
  {
   "cell_type": "code",
   "execution_count": 9,
   "metadata": {},
   "outputs": [],
   "source": [
    "b = a.to_component_notation()"
   ]
  },
  {
   "cell_type": "code",
   "execution_count": 10,
   "metadata": {},
   "outputs": [
    {
     "data": {
      "text/plain": [
       "Vector: mag: 10.0 | ang: 29.999999999999993"
      ]
     },
     "execution_count": 10,
     "metadata": {},
     "output_type": "execute_result"
    }
   ],
   "source": [
    "b.to_mag_ang_notation()"
   ]
  },
  {
   "cell_type": "code",
   "execution_count": null,
   "metadata": {},
   "outputs": [],
   "source": []
  }
 ],
 "metadata": {
  "kernelspec": {
   "display_name": "Python 3",
   "language": "python",
   "name": "python3"
  },
  "language_info": {
   "codemirror_mode": {
    "name": "ipython",
    "version": 3
   },
   "file_extension": ".py",
   "mimetype": "text/x-python",
   "name": "python",
   "nbconvert_exporter": "python",
   "pygments_lexer": "ipython3",
   "version": "3.7.7"
  }
 },
 "nbformat": 4,
 "nbformat_minor": 4
}
