{
 "cells": [
  {
   "cell_type": "code",
   "execution_count": 1,
   "metadata": {},
   "outputs": [],
   "source": [
    "import numpy as np\n",
    "import math"
   ]
  },
  {
   "cell_type": "markdown",
   "metadata": {},
   "source": [
    "### Lines"
   ]
  },
  {
   "cell_type": "markdown",
   "metadata": {},
   "source": [
    "##### Problem 1"
   ]
  },
  {
   "cell_type": "raw",
   "metadata": {},
   "source": [
    "Find the equation of the line passing through points p=(1, 1, 1) and q=(2, 3, 4)"
   ]
  },
  {
   "cell_type": "code",
   "execution_count": null,
   "metadata": {},
   "outputs": [],
   "source": [
    "# direction vector can be caliculated as v = q - p\n",
    "p = np.array([1, 1, 1])\n",
    "q = np.array([2, 3, 4])\n",
    "v = q-p\n",
    "v"
   ]
  },
  {
   "cell_type": "raw",
   "metadata": {},
   "source": [
    "the parametric equation of the line is l = p + tv where p = [1, 1, 1], v = [1, 2, 3]"
   ]
  },
  {
   "cell_type": "raw",
   "metadata": {},
   "source": [
    "The symmetric equation of the line is:\n",
    "x - px / vx = y - py / vy = z - pz / vz\n",
    "\n",
    "i.e\n",
    "x - 1 / 1 = y - 1 / 2 = z - 1 / 3"
   ]
  },
  {
   "cell_type": "markdown",
   "metadata": {},
   "source": [
    "### Planes"
   ]
  },
  {
   "cell_type": "raw",
   "metadata": {},
   "source": [
    "General Eqn of a plane:\n",
    "Ax + By + Cz = D"
   ]
  },
  {
   "cell_type": "raw",
   "metadata": {},
   "source": [
    "Normal Eqn of a plane:\n",
    "n.(p - p0) = 0\n",
    "where n is the normal vector to the plane and\n",
    "p0 is any point on the plane and\n",
    "p is (x, y, z)"
   ]
  },
  {
   "cell_type": "raw",
   "metadata": {},
   "source": [
    "We can write the normal eqn as:\n",
    "n.p = n.p0\n",
    "This has the form Ax + By + Cz = D\n",
    "where D = n.p0"
   ]
  },
  {
   "cell_type": "raw",
   "metadata": {},
   "source": [
    "Parametric Eqn of a plane:\n",
    "let v and w be two linearly independent vectors that lie on the plane and p0 be any point on the plane,\n",
    "The parametric eqn of the plane is:\n",
    "p0 + sv + tw"
   ]
  },
  {
   "cell_type": "markdown",
   "metadata": {},
   "source": [
    "##### Problem 2"
   ]
  },
  {
   "cell_type": "raw",
   "metadata": {},
   "source": [
    "find equation of the plane which has points p=(1, 0, 0), q=(0, 1, 0), and r=(0, 0, 1) in it"
   ]
  },
  {
   "cell_type": "raw",
   "metadata": {},
   "source": [
    "First we find two vectors v (q-p), and w (r-q)in the plane, and the cross product v x w gives us the normal\n",
    "to the plane, then we can find the equation of the plane as n.(p - p0) = 0"
   ]
  },
  {
   "cell_type": "code",
   "execution_count": null,
   "metadata": {},
   "outputs": [],
   "source": [
    "p = np.array([1, 0, 0])\n",
    "q = np.array([0, 1, 0])\n",
    "r = np.array([0, 0, 1])"
   ]
  },
  {
   "cell_type": "code",
   "execution_count": null,
   "metadata": {},
   "outputs": [],
   "source": [
    "v = q - p\n",
    "w = r - q\n",
    "v, w"
   ]
  },
  {
   "cell_type": "code",
   "execution_count": null,
   "metadata": {},
   "outputs": [],
   "source": [
    "# calculating normal\n",
    "n = np.cross(v, w)"
   ]
  },
  {
   "cell_type": "code",
   "execution_count": null,
   "metadata": {},
   "outputs": [],
   "source": [
    "n"
   ]
  },
  {
   "cell_type": "raw",
   "metadata": {},
   "source": [
    "We write the geometric equation as:\n",
    "n.(p - p0)=0 where n = [1, 1, 1], and p0 is (1, 0, 0)\n",
    "Here we have taken the point p as p0, however we can replace it with q and r als0"
   ]
  },
  {
   "cell_type": "raw",
   "metadata": {},
   "source": [
    "The general eqn of the plane is:\n",
    "Ax + By + Cz = D\n",
    "A, B, C are the coeffs of the normal to the plane n,\n",
    "we can obtain D by calculating n.p0"
   ]
  },
  {
   "cell_type": "code",
   "execution_count": null,
   "metadata": {},
   "outputs": [],
   "source": [
    "D = n@p\n",
    "D"
   ]
  },
  {
   "cell_type": "raw",
   "metadata": {},
   "source": [
    "Therefore, the general eqn of the line is:\n",
    "x + y + z  = 1"
   ]
  },
  {
   "cell_type": "raw",
   "metadata": {},
   "source": [
    "We can write the parametric equation of the plane as:\n",
    "p0 + sv + tw => (1, 0, 0) + s(-1, 1, 0) + t(0, -1, 1)"
   ]
  },
  {
   "cell_type": "markdown",
   "metadata": {},
   "source": [
    "## Projections"
   ]
  },
  {
   "cell_type": "raw",
   "metadata": {},
   "source": [
    "Note that in this section we'll be dealing with projections onto a line and a plane passing through the origin only."
   ]
  },
  {
   "cell_type": "markdown",
   "metadata": {},
   "source": [
    "### Projection onto a line"
   ]
  },
  {
   "cell_type": "raw",
   "metadata": {},
   "source": [
    "Let l be a line passing through the origin with parametric eqn:\n",
    "0 + tv where v is the direction vector\n",
    "\n",
    "the projection onto l for an arbitary vector u is u.v` where v` is the unit vector along v.\n",
    "u.v` can be written as:\n",
    "u.v` = (u.v)/|v|\n",
    "but (u.v)/|v| is a scalar, to give it a direction, we multiply it with v/|v| - unit vector along v\n",
    "=> u.v` = (u.v)*v/|v|**2"
   ]
  },
  {
   "cell_type": "code",
   "execution_count": 31,
   "metadata": {},
   "outputs": [],
   "source": [
    "def projection(u, v):\n",
    "    '''\n",
    "    The projection of u onto v given by formula (u.v)*v/|v|**2\n",
    "    '''\n",
    "    mag_v = math.sqrt(v@v)\n",
    "    projection = (u@v)*v/math.pow(mag_v, 2)\n",
    "    return projection "
   ]
  },
  {
   "cell_type": "markdown",
   "metadata": {},
   "source": [
    "##### Problem 1"
   ]
  },
  {
   "cell_type": "raw",
   "metadata": {},
   "source": [
    "given a line l with a parametric equation t(1, 2, 3), find projection of the vector\n",
    "u = (4, 5, 6) onto line l and also line l-perp"
   ]
  },
  {
   "cell_type": "code",
   "execution_count": 12,
   "metadata": {},
   "outputs": [],
   "source": [
    "u = np.array([4, 5, 6])\n",
    "v = np.array([1, 2, 3])"
   ]
  },
  {
   "cell_type": "code",
   "execution_count": 14,
   "metadata": {},
   "outputs": [
    {
     "data": {
      "text/plain": [
       "array([2.28571429, 4.57142857, 6.85714286])"
      ]
     },
     "execution_count": 14,
     "metadata": {},
     "output_type": "execute_result"
    }
   ],
   "source": [
    "projection_l = projection(u, v)\n",
    "projection_l"
   ]
  },
  {
   "cell_type": "raw",
   "metadata": {},
   "source": [
    "The vector u can be decomposed into two vectors v, w such that u = v + w,\n",
    "where v = projection of u onto line l,\n",
    "and w = projection of u onto line l-perp\n",
    "\n",
    "=> w = u - v"
   ]
  },
  {
   "cell_type": "code",
   "execution_count": 18,
   "metadata": {},
   "outputs": [],
   "source": [
    "projection_l_perp = u - projection_l"
   ]
  },
  {
   "cell_type": "code",
   "execution_count": 19,
   "metadata": {},
   "outputs": [
    {
     "data": {
      "text/plain": [
       "array([ 1.71428571,  0.42857143, -0.85714286])"
      ]
     },
     "execution_count": 19,
     "metadata": {},
     "output_type": "execute_result"
    }
   ],
   "source": [
    "projection_l_perp"
   ]
  },
  {
   "cell_type": "raw",
   "metadata": {},
   "source": [
    "we can verify that projection_l_perp is perpendicular to line l by calculating projection_l_perp.projection_l which should be 0"
   ]
  },
  {
   "cell_type": "code",
   "execution_count": 21,
   "metadata": {},
   "outputs": [
    {
     "data": {
      "text/plain": [
       "0.0"
      ]
     },
     "execution_count": 21,
     "metadata": {},
     "output_type": "execute_result"
    }
   ],
   "source": [
    "np.round(projection_l_perp @ projection_l)"
   ]
  },
  {
   "cell_type": "markdown",
   "metadata": {},
   "source": [
    "Perfect!"
   ]
  },
  {
   "cell_type": "markdown",
   "metadata": {},
   "source": [
    "### Projection onto a plane"
   ]
  },
  {
   "cell_type": "raw",
   "metadata": {},
   "source": [
    "Let p be a plane passing through the origin with geometric eqn:\n",
    "n.(x, y, z) = 0 where n is the vector normal to the plane."
   ]
  },
  {
   "cell_type": "raw",
   "metadata": {},
   "source": [
    "to find the projection of vector u onto the plane p, \n",
    "first we find the projection of vector u onto n where n is the normal to the plane p,\n",
    "and then using the formula\n",
    "u = projection_on_plane_p + projection_on_n (orthogonal space to p)\n",
    "we calculate projection_on_plane_p as u - projection_on_n"
   ]
  },
  {
   "cell_type": "markdown",
   "metadata": {},
   "source": [
    "##### Problem 2"
   ]
  },
  {
   "cell_type": "raw",
   "metadata": {},
   "source": [
    "given a plane p with geometric eqn: (1, 1, 1)[(x, y, z) - (0, 0, 0)] = 0,\n",
    "and a vector u = (4, 5, 6) find the projection of vector u onto plane p and p_perp"
   ]
  },
  {
   "cell_type": "code",
   "execution_count": 22,
   "metadata": {},
   "outputs": [],
   "source": [
    "n = np.array([1, 1, 1])\n",
    "u = np.array([4, 5, 6])"
   ]
  },
  {
   "cell_type": "code",
   "execution_count": 27,
   "metadata": {},
   "outputs": [],
   "source": [
    "projection_onto_n = np.round(projection(u, n))"
   ]
  },
  {
   "cell_type": "code",
   "execution_count": 28,
   "metadata": {},
   "outputs": [],
   "source": [
    "projection_onto_p = np.round(u - projection_onto_n)"
   ]
  },
  {
   "cell_type": "code",
   "execution_count": 29,
   "metadata": {},
   "outputs": [
    {
     "data": {
      "text/plain": [
       "(array([5., 5., 5.]), array([-1.,  0.,  1.]))"
      ]
     },
     "execution_count": 29,
     "metadata": {},
     "output_type": "execute_result"
    }
   ],
   "source": [
    "projection_onto_n, projection_onto_p"
   ]
  },
  {
   "cell_type": "raw",
   "metadata": {},
   "source": [
    "we can also verify that projection_onto_p.n = 0"
   ]
  },
  {
   "cell_type": "code",
   "execution_count": 30,
   "metadata": {},
   "outputs": [
    {
     "data": {
      "text/plain": [
       "0.0"
      ]
     },
     "execution_count": 30,
     "metadata": {},
     "output_type": "execute_result"
    }
   ],
   "source": [
    "np.round(projection_onto_p @ n)"
   ]
  },
  {
   "cell_type": "markdown",
   "metadata": {},
   "source": [
    "### Distances"
   ]
  },
  {
   "cell_type": "markdown",
   "metadata": {},
   "source": [
    " #### Distance of a line from origin"
   ]
  },
  {
   "cell_type": "raw",
   "metadata": {},
   "source": [
    "given a line l defined by its parametric eqn: p0 + tv, find distance to this line from origin."
   ]
  },
  {
   "cell_type": "raw",
   "metadata": {},
   "source": [
    "We define a line l` that has the same direction as line l (v) but it passes thorugh the origin.\n",
    "eqn of l`: 0 + tv.\n",
    "\n",
    "Now, distance from origin to l is same as the magnitude of perpendicular projection of vector (p0 - 0) onto line l`\n",
    "which we have calculated above as:\n",
    "|p0 - (p0.v)*v/|v|**2|"
   ]
  },
  {
   "cell_type": "code",
   "execution_count": 43,
   "metadata": {},
   "outputs": [],
   "source": [
    "def distance_from_origin_line(p0, v):\n",
    "    '''\n",
    "    calculate distance from origin to line l defined as p0 + tv\n",
    "    '''\n",
    "    projection_p = projection(p0, v)\n",
    "    projection_p_perpendicular = p0 - projection_p\n",
    "    mag_proj_p_perp = math.sqrt(projection_p_perpendicular@projection_p_perpendicular)\n",
    "    return abs(mag_proj_p_perp)"
   ]
  },
  {
   "cell_type": "markdown",
   "metadata": {},
   "source": [
    "##### Problem 3"
   ]
  },
  {
   "cell_type": "raw",
   "metadata": {},
   "source": [
    "given a line l (4, 5, 6) + t(1, 0, 1)\n",
    "calculate the distance from origin to this line"
   ]
  },
  {
   "cell_type": "code",
   "execution_count": 33,
   "metadata": {},
   "outputs": [
    {
     "data": {
      "text/plain": [
       "5.196152422706632"
      ]
     },
     "execution_count": 33,
     "metadata": {},
     "output_type": "execute_result"
    }
   ],
   "source": [
    "p0 = np.array([4, 5, 6])\n",
    "v = np.array([1, 0, 1])\n",
    "distance_from_origin_line(p0, v)"
   ]
  },
  {
   "cell_type": "markdown",
   "metadata": {},
   "source": [
    " #### Distance of a plane from origin"
   ]
  },
  {
   "cell_type": "raw",
   "metadata": {},
   "source": [
    "given a plane p defined by its geometric eqn: n.[(x, y, z) - p0] = 0, find distance to this plane from origin."
   ]
  },
  {
   "cell_type": "raw",
   "metadata": {},
   "source": [
    "We define a plane p` that has the same normal as plane p (n) but it passes thorugh the origin.\n",
    "eqn of p`: n.[(x, y, z)] = 0\n",
    "\n",
    "Now, distance from origin to p is same as the magnitude of perpendicular projection of vector (p0 - 0) onto plane p`\n",
    "which we have calculated above as:\n",
    "(p0.n)/|n|"
   ]
  },
  {
   "cell_type": "code",
   "execution_count": 40,
   "metadata": {},
   "outputs": [],
   "source": [
    "def distance_from_origin_plane(p0, n):\n",
    "    '''\n",
    "    calculate distance from origin to plane p defined as n.[(x, y, z) - p0] = 0\n",
    "    '''\n",
    "    mag_n = math.sqrt(n@n)\n",
    "    return abs(p0@n/mag_n)"
   ]
  },
  {
   "cell_type": "markdown",
   "metadata": {},
   "source": [
    "##### Problem 4"
   ]
  },
  {
   "cell_type": "raw",
   "metadata": {},
   "source": [
    "given a plane p: (-3, 0, -4).[(x, y, z) - (1, 2, 3)] = 0\n",
    "calculate the distance from origin to this plane"
   ]
  },
  {
   "cell_type": "code",
   "execution_count": 41,
   "metadata": {},
   "outputs": [],
   "source": [
    "n = np.array([-3, 0, -4])\n",
    "p0 = np.array([1, 2, 3])"
   ]
  },
  {
   "cell_type": "code",
   "execution_count": 42,
   "metadata": {},
   "outputs": [
    {
     "data": {
      "text/plain": [
       "3.0"
      ]
     },
     "execution_count": 42,
     "metadata": {},
     "output_type": "execute_result"
    }
   ],
   "source": [
    "distance_from_origin_plane(p0, n)"
   ]
  },
  {
   "cell_type": "markdown",
   "metadata": {},
   "source": [
    "## Basis"
   ]
  },
  {
   "cell_type": "markdown",
   "metadata": {},
   "source": [
    "### Generic Basis"
   ]
  },
  {
   "cell_type": "raw",
   "metadata": {},
   "source": [
    "Given a generic basis for a vector space {f1, f2, f3, f4, ...}, any vector c can be expressed as:\n",
    "c = c1f1 + c2f2 + c3f3 + ...\n",
    "Where c1, c2, c3 ... are the coefficients, or how much the vector lies along the respective basis f1, f2, f3 ..."
   ]
  },
  {
   "cell_type": "markdown",
   "metadata": {},
   "source": [
    "### Orthonormal Basis"
   ]
  },
  {
   "cell_type": "raw",
   "metadata": {},
   "source": [
    "Here, the components of the basis are mutually perpendicular and are of unit length.\n",
    "let B = {e1, e2, e3, e4, e5, ...} be an orthonormal basis\n",
    "=> ei.ej = 0 if i != j else 1 (if i == j)"
   ]
  },
  {
   "cell_type": "raw",
   "metadata": {},
   "source": [
    "Any vector v can be expressed as:\n",
    "v = v1e1 + v2e2 + v3e3 + ...\n",
    "\n",
    "Let's say we want to find v1 - the component of v along e1,\n",
    "we multiply the above eqn with e1.\n",
    "\n",
    "=> v.e1 = v1(e1.e1) + v2(e1.e2) + v3(e1.e3) + ...\n",
    "\n",
    "but as we know, orthonormal basis are mutually perpendicular\n",
    "=> e1.e2 = e1.e3 = e1.e4 = ... = 0\n",
    "\n",
    "=> v1 = v.e1\n",
    "\n",
    "In this way, we can find the component of any vector in orthonormal basis"
   ]
  },
  {
   "cell_type": "raw",
   "metadata": {},
   "source": []
  },
  {
   "cell_type": "markdown",
   "metadata": {},
   "source": [
    "#### Problem 1"
   ]
  },
  {
   "cell_type": "raw",
   "metadata": {},
   "source": [
    "Express the vector v = (5, 6)ij in terms of the basis Bf = {f1, f2} where f1 = (1, 1)ij and f2 = (3, 0)ij"
   ]
  },
  {
   "cell_type": "raw",
   "metadata": {},
   "source": [
    " We need to find two coefficients v1, v2 such that v = v1f1 + v2f2"
   ]
  },
  {
   "cell_type": "raw",
   "metadata": {},
   "source": [
    "Decomposing the eqn into i, j we get:\n",
    "v = 5i + 6j\n",
    "f1 = 1i + 1j\n",
    "f2 = 3i + 0j\n",
    "\n",
    "=> 5i + 6j = v1*(i + j) + v2*(3i)\n",
    "=> 5i + 6j = i*(v1 + 3v2) + j*(v1)\n",
    "\n",
    "since i, j form orthogonal basis, we can equate the respective components,\n",
    "v1 + 3v2 = 5\n",
    "v1 = 6\n",
    "\n",
    "Substituting v1 = 6, we get v2 = -0.33\n",
    "\n",
    "=> hence the vector v can be expressed in terms of basis Bf(f1, f2) as v = 6f1 -0.33f2"
   ]
  },
  {
   "cell_type": "markdown",
   "metadata": {},
   "source": [
    "## Distilling Basis"
   ]
  },
  {
   "cell_type": "code",
   "execution_count": 1,
   "metadata": {},
   "outputs": [],
   "source": [
    "from sympy.matrices import Matrix"
   ]
  },
  {
   "cell_type": "markdown",
   "metadata": {},
   "source": [
    "#### Problem 1 "
   ]
  },
  {
   "cell_type": "raw",
   "metadata": {},
   "source": [
    "find the basis for Row Space, Column Space and Null Space of the Matrix:\n",
    "[[4, -4, 0],\n",
    " [1, 1, -2],\n",
    " [2, -6, 4]]"
   ]
  },
  {
   "cell_type": "raw",
   "metadata": {},
   "source": [
    "The first step is to find the RREF of the matrix"
   ]
  },
  {
   "cell_type": "code",
   "execution_count": 2,
   "metadata": {},
   "outputs": [],
   "source": [
    "A = Matrix([[4, -4, 0],\n",
    " [1, 1, -2],\n",
    " [2, -6, 4]])"
   ]
  },
  {
   "cell_type": "code",
   "execution_count": 3,
   "metadata": {},
   "outputs": [],
   "source": [
    "matrix, _ = A.rref()"
   ]
  },
  {
   "cell_type": "code",
   "execution_count": 4,
   "metadata": {},
   "outputs": [
    {
     "data": {
      "text/latex": [
       "$\\displaystyle \\left[\\begin{matrix}1 & 0 & -1\\\\0 & 1 & -1\\\\0 & 0 & 0\\end{matrix}\\right]$"
      ],
      "text/plain": [
       "Matrix([\n",
       "[1, 0, -1],\n",
       "[0, 1, -1],\n",
       "[0, 0,  0]])"
      ]
     },
     "execution_count": 4,
     "metadata": {},
     "output_type": "execute_result"
    }
   ],
   "source": [
    "matrix"
   ]
  },
  {
   "cell_type": "raw",
   "metadata": {},
   "source": [
    "We see that there are two pivots in the above rref of the matrix\n",
    "=> rank of the matrix is 2\n",
    "=> dim. of rowspace = dim. of columnspace = 2\n",
    "=> by rank-nullity theorem, we get dim of null space = 3 - 2 = 1\n",
    "\n",
    "we'll verify this below"
   ]
  },
  {
   "cell_type": "markdown",
   "metadata": {},
   "source": [
    "##### Row Space"
   ]
  },
  {
   "cell_type": "raw",
   "metadata": {},
   "source": [
    "We know that R(A) = R(rref(A))"
   ]
  },
  {
   "cell_type": "raw",
   "metadata": {},
   "source": [
    "hence row space of A is the span of non-zero rows of A in it's rref form which is\n",
    "\n",
    "R(A) = R(rref(A)) = span{[1, 0, -1], [0, 1, -1]}"
   ]
  },
  {
   "cell_type": "markdown",
   "metadata": {},
   "source": [
    "##### Column Space"
   ]
  },
  {
   "cell_type": "raw",
   "metadata": {},
   "source": [
    "C(A) is the columns in the original matrix A where the columns contain pivots in rref(A)\n",
    "\n",
    "In the rref(A), the first and second columns contain pivots,\n",
    "=> columns space of A is span of first and second columns in the original matrix A\n",
    "\n",
    "C(A) = span{[4, 1, 2], [-4, 1, -6]}\n",
    "\n",
    "We can also verify this using sympy as shown below"
   ]
  },
  {
   "cell_type": "code",
   "execution_count": 5,
   "metadata": {},
   "outputs": [
    {
     "data": {
      "text/plain": [
       "[Matrix([\n",
       " [4],\n",
       " [1],\n",
       " [2]]),\n",
       " Matrix([\n",
       " [-4],\n",
       " [ 1],\n",
       " [-6]])]"
      ]
     },
     "execution_count": 5,
     "metadata": {},
     "output_type": "execute_result"
    }
   ],
   "source": [
    "A.columnspace()"
   ]
  },
  {
   "cell_type": "markdown",
   "metadata": {},
   "source": [
    "Perfect"
   ]
  },
  {
   "cell_type": "markdown",
   "metadata": {},
   "source": [
    "##### Null Space"
   ]
  },
  {
   "cell_type": "raw",
   "metadata": {},
   "source": [
    "to find the null space of A, we find the vectors associated with the free variables in rref(A)\n",
    "\n",
    "In the above rref(A), we see that column 3 has no pivot,\n",
    "=> this column corresponds to a free variable t\n",
    "\n",
    "=> [[1, 0, -1], [[x1],\n",
    "    [0, 1, -1],  [x2], = 0\n",
    "    [0, 0,  0]]  [t]]\n",
    "    \n",
    "x3 = t as x3 is a free variable;\n",
    "\n",
    "=> x1 - t = 0 => x1 = t\n",
    "   x2 - t = 0 => x2 = t\n",
    "   \n",
    "Hence, we can write the solution set [[x1], as [[t], which can be written as t[[1],\n",
    "                                      [x2],     [t],                           [1],\n",
    "                                      [x3]]     [t]]                           [1]]\n",
    "                                     \n",
    "So, we have represented the solution set of x such that A.x = 0 as\n",
    "x = t[[1],\n",
    "      [1],\n",
    "      [1]]\n",
    "          \n",
    "Hence the null space of A is the solution of A.x = 0 which is span{[1, 1, 1]}\n",
    "\n",
    "Note that the dim. of null space is 1 as we have calculated above using the rank-nullity theorem.\n",
    "Hence verified.\n",
    "\n",
    "We can also verify this using sympy below"
   ]
  },
  {
   "cell_type": "code",
   "execution_count": 7,
   "metadata": {},
   "outputs": [
    {
     "data": {
      "text/plain": [
       "[Matrix([\n",
       " [1],\n",
       " [1],\n",
       " [1]])]"
      ]
     },
     "execution_count": 7,
     "metadata": {},
     "output_type": "execute_result"
    }
   ],
   "source": [
    "A.nullspace()"
   ]
  },
  {
   "cell_type": "markdown",
   "metadata": {},
   "source": [
    "Perfect"
   ]
  },
  {
   "cell_type": "markdown",
   "metadata": {},
   "source": [
    "#### Problem 2"
   ]
  },
  {
   "cell_type": "raw",
   "metadata": {},
   "source": [
    "find the null space, column space and row space for the matrix\n",
    "A = [[1, 3, 1, 4],\n",
    "     [2, 7, 3, 9],\n",
    "     [1, 5, 3, 1],\n",
    "     [1, 2, 0, 8]]"
   ]
  },
  {
   "cell_type": "code",
   "execution_count": 8,
   "metadata": {},
   "outputs": [],
   "source": [
    "A = Matrix([[1, 3, 1, 4],\n",
    "     [2, 7, 3, 9],\n",
    "     [1, 5, 3, 1],\n",
    "     [1, 2, 0, 8]])"
   ]
  },
  {
   "cell_type": "raw",
   "metadata": {},
   "source": [
    "We follow the same procedure as above"
   ]
  },
  {
   "cell_type": "code",
   "execution_count": 10,
   "metadata": {},
   "outputs": [],
   "source": [
    "matrix, _ = A.rref()"
   ]
  },
  {
   "cell_type": "code",
   "execution_count": 11,
   "metadata": {},
   "outputs": [
    {
     "data": {
      "text/latex": [
       "$\\displaystyle \\left[\\begin{matrix}1 & 0 & -2 & 0\\\\0 & 1 & 1 & 0\\\\0 & 0 & 0 & 1\\\\0 & 0 & 0 & 0\\end{matrix}\\right]$"
      ],
      "text/plain": [
       "Matrix([\n",
       "[1, 0, -2, 0],\n",
       "[0, 1,  1, 0],\n",
       "[0, 0,  0, 1],\n",
       "[0, 0,  0, 0]])"
      ]
     },
     "execution_count": 11,
     "metadata": {},
     "output_type": "execute_result"
    }
   ],
   "source": [
    "matrix"
   ]
  },
  {
   "cell_type": "markdown",
   "metadata": {},
   "source": [
    "##### Row Space"
   ]
  },
  {
   "cell_type": "raw",
   "metadata": {},
   "source": [
    "R(A) = R(rref(A)) = span{[1, 0, -2, 0], [0, 1, 1, 0], [0, 0, 0, 1]}"
   ]
  },
  {
   "cell_type": "raw",
   "metadata": {},
   "source": [
    "also, dim of R(A) is 3 \n",
    "=> dim of null space of A = 4-3 = 1"
   ]
  },
  {
   "cell_type": "markdown",
   "metadata": {},
   "source": [
    "##### Column Space"
   ]
  },
  {
   "cell_type": "raw",
   "metadata": {},
   "source": [
    "C(A) = columns in the original matrix which contains pivots in rref of the matrix\n",
    "columns 1, 2, and 4 contain pivots\n",
    "\n",
    "=> C(A) = span{[1, 2, 1, 1], [3, 7, 5, 2], [4, 9, 1, 8]}"
   ]
  },
  {
   "cell_type": "code",
   "execution_count": 12,
   "metadata": {},
   "outputs": [
    {
     "data": {
      "text/plain": [
       "[Matrix([\n",
       " [1],\n",
       " [2],\n",
       " [1],\n",
       " [1]]),\n",
       " Matrix([\n",
       " [3],\n",
       " [7],\n",
       " [5],\n",
       " [2]]),\n",
       " Matrix([\n",
       " [4],\n",
       " [9],\n",
       " [1],\n",
       " [8]])]"
      ]
     },
     "execution_count": 12,
     "metadata": {},
     "output_type": "execute_result"
    }
   ],
   "source": [
    "A.columnspace()"
   ]
  },
  {
   "cell_type": "markdown",
   "metadata": {},
   "source": [
    "perfect"
   ]
  },
  {
   "cell_type": "markdown",
   "metadata": {},
   "source": [
    "##### Null Space"
   ]
  },
  {
   "cell_type": "raw",
   "metadata": {},
   "source": [
    "We see that there is one column (2) with no pivots,\n",
    "hence this column corresponds to the free variable t\n",
    "\n",
    "=> [[1, 0, -2, 0], [[x1],\n",
    "    [0, 1, 1, 0],   [x2], = 0\n",
    "    [0, 0,  0, 1],  [t],\n",
    "    [0, 0, 0, 0]]   [x4]]\n",
    "    \n",
    "=> x1 - 2t = 0 =>  x1 = 2t\n",
    "   x2 + t = 0 => x2 = -t\n",
    "   x4 = 0 \n",
    "   \n",
    "=> [[x1],                   [[2t],                     [[2],\n",
    "    [x2], can be written as  [-t], can be written as t* [-1],\n",
    "    [t],                     [t],                       [1],\n",
    "    [x4]]                    [0]]                       [0]]\n",
    "    \n",
    "hence N(A) = span{[2, -1, 1, 0]}\n",
    "\n",
    "as verified, dimension is 1"
   ]
  },
  {
   "cell_type": "code",
   "execution_count": 13,
   "metadata": {},
   "outputs": [
    {
     "data": {
      "text/plain": [
       "[Matrix([\n",
       " [ 2],\n",
       " [-1],\n",
       " [ 1],\n",
       " [ 0]])]"
      ]
     },
     "execution_count": 13,
     "metadata": {},
     "output_type": "execute_result"
    }
   ],
   "source": [
    "A.nullspace()"
   ]
  },
  {
   "cell_type": "markdown",
   "metadata": {},
   "source": [
    "perfect"
   ]
  },
  {
   "cell_type": "code",
   "execution_count": null,
   "metadata": {},
   "outputs": [],
   "source": []
  }
 ],
 "metadata": {
  "kernelspec": {
   "display_name": "Python 3",
   "language": "python",
   "name": "python3"
  },
  "language_info": {
   "codemirror_mode": {
    "name": "ipython",
    "version": 3
   },
   "file_extension": ".py",
   "mimetype": "text/x-python",
   "name": "python",
   "nbconvert_exporter": "python",
   "pygments_lexer": "ipython3",
   "version": "3.7.7"
  }
 },
 "nbformat": 4,
 "nbformat_minor": 4
}
