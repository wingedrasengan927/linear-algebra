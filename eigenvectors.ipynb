{
 "cells": [
  {
   "cell_type": "markdown",
   "metadata": {},
   "source": [
    "## Problems"
   ]
  },
  {
   "cell_type": "raw",
   "metadata": {},
   "source": [
    "Using l to represent lambda"
   ]
  },
  {
   "cell_type": "markdown",
   "metadata": {},
   "source": [
    "#### Problem 1"
   ]
  },
  {
   "cell_type": "raw",
   "metadata": {},
   "source": [
    "Explain why an n x n matrix A can have at most n different\n",
    "eigenvalues."
   ]
  },
  {
   "cell_type": "raw",
   "metadata": {},
   "source": [
    "The characteristic polynomial of A has degree n, The fundamental theorem of algebra states that any polynomial of degree n can be expressed as (x-x1)(x-x2)...(x-xn)\n",
    "where x1, x2, x3... xn are the roots. hence since the characteristic polynomial can have atmost n roots, A has atmost n different eigenvalues"
   ]
  },
  {
   "cell_type": "markdown",
   "metadata": {},
   "source": [
    "#### Problem 2"
   ]
  },
  {
   "cell_type": "raw",
   "metadata": {},
   "source": [
    "Prove that the eigenvectors that correspond to different eigenvalues\n",
    "are linearly independent."
   ]
  },
  {
   "cell_type": "raw",
   "metadata": {},
   "source": [
    "say A is an nxn matrix, and it has eigenvalues l1, l2 and let v1, v2 be the corresponding eigenvectors of l1, l2. if l1 != l2, we have to prove that c1.v1 + c2.v2 = 0 only if c1 = c2 = 0 and given that v1, v2 are non-zero vectors\n",
    "\n",
    "that is, given that c1.v1 + c2.v2 = 0 - eqn(1), we have to prove that c1 = c2 = 0\n",
    "apply linear transformation on both sides of eqn(1) (multiply by A)\n",
    "A.(c1.v1 + c2.v2) = A.0\n",
    "c1.A.v1 + c2.A.v2 = 0\n",
    "c1.l1.v1 + c2.l2.v2 = 0 - eqn(2)\n",
    "multiplying eqn(1) by l1 on the both sides, we get\n",
    "c1.l1.v1 + c2.l1.v2 = 0 - eqn(3)\n",
    "subtracting eqn(3) from eqn(2) we get\n",
    "c2.l2.v2 - c2.l1.v2 = 0\n",
    "=> c2.(l2 - l1).v2 = 0\n",
    "we know that v2 is not a zero vector and l1 != l2\n",
    "and hence the only solution to the above eqn is when c2 = 0\n",
    "\n",
    "putting c2 = 0 on eqn(1) we get\n",
    "c1.v1 = 0\n",
    "since v1 is not a zero-vector, we can conclude that c1 = 0\n",
    "\n",
    "hence, c1 = c2 = 0"
   ]
  },
  {
   "cell_type": "markdown",
   "metadata": {},
   "source": [
    "#### Problem 3"
   ]
  },
  {
   "cell_type": "raw",
   "metadata": {},
   "source": [
    "Let l1 be an eigenvalue of A and let v1 be the corresponding\n",
    "eigenvector. Show that l1**2 is an eigenvalue of A**2."
   ]
  },
  {
   "cell_type": "raw",
   "metadata": {},
   "source": [
    "We have, A.v1 = l1.v1\n",
    "applying linear transformation on both sides (multiplying by A) we get:\n",
    "A.A.v1 = l1.A.v1\n",
    "=> (A**2).v1 = l1.l1.v1\n",
    "=> (A**2).v1 = (l1**2).v1\n",
    "\n",
    "Hence (l1**2) is an eigenvalue of (A**2)"
   ]
  },
  {
   "cell_type": "markdown",
   "metadata": {},
   "source": [
    "#### Problem 4"
   ]
  },
  {
   "cell_type": "raw",
   "metadata": {},
   "source": [
    "Suppose l1 is an eigenvalue of the invertible matrix A with corresponding\n",
    "eigenvector v1. Show that (1/l1) is an eigenvalue of the\n",
    "inverse matrix A.inv"
   ]
  },
  {
   "cell_type": "raw",
   "metadata": {},
   "source": [
    "We have, \n",
    "A.v1 = l1.v1\n",
    "multiplying both sides by A.inv we get\n",
    "(A.inv).A.v1 = l1.(A.inv).v1\n",
    "=> I.v1 = l1(A.inv).v1\n",
    "Dividing both sides by l1 we get\n",
    "(1/l1).v1 = (A.inv).v1\n",
    "i.e (A.inv).v1 = (1/l1).v1\n",
    "Hence (1/l1) is the eigenvalue of A.inv"
   ]
  },
  {
   "cell_type": "markdown",
   "metadata": {},
   "source": [
    "#### Problem 5"
   ]
  },
  {
   "cell_type": "raw",
   "metadata": {},
   "source": [
    "Find the values of a and b so the matrix A = [[0, a],\n",
    "                                              [1, b]]\n",
    "will have eigenvalues 1 and 3."
   ]
  },
  {
   "cell_type": "raw",
   "metadata": {},
   "source": [
    "Now the characteristic polynomial of a matrix A is given by:\n",
    "x**2 - trace(A)x + det(A) = 0\n",
    "\n",
    "trace(A) = b\n",
    "det(A) = -a\n",
    "\n",
    "=> x**2 - bx - a should have roots 1, 3\n",
    "=> x**2 - bx - a = (x-1)(x-3)\n",
    "=> x**2 - bx - a = x**2 - 4x + 3\n",
    "=> b = 4 and a = -3"
   ]
  },
  {
   "cell_type": "markdown",
   "metadata": {},
   "source": [
    "#### Problem 6"
   ]
  },
  {
   "cell_type": "raw",
   "metadata": {},
   "source": [
    "find eigenvalues and eigenvectors for the matrix\n",
    "A = [[2, 1],\n",
    "     [1, 2]]"
   ]
  },
  {
   "cell_type": "raw",
   "metadata": {},
   "source": [
    "WE have to find l such that A.v1 = l.I.v1\n",
    "=> (A-l.I).v1 = 0\n",
    "i.e we have to find the null space of (A-l.I)\n",
    "Now null space of (A-l.I) only exists if det(A-l.I) = 0\n",
    "\n",
    "=> det of [[2-l, 1], is 0\n",
    "          [1, 2-l]]\n",
    "\n",
    "=> (2-l)**2 -1 = 0\n",
    "=> 4 + l**2 - 4l - 1 = 0\n",
    "=> l**2 - 4l + 3 = 0\n",
    "\n",
    "The roots of the above eqn are 1, 3\n",
    "\n",
    "hence l1=1 and l2=3 are eigenvalues of A\n",
    "\n",
    "to get the corresponding eigenvectors, we solve for the eqn\n",
    "A.v1 = l1.v1\n",
    "=> (A-l).v1 = 0\n",
    "\n",
    "we have to find the null space of (A-l)\n",
    "\n",
    "let's solve for A-l when l = l1 = 1\n",
    "=> A-l1 = [[1, 1]\n",
    "          [1, 1]]\n",
    "          \n",
    "=> let v1=[[x1],\n",
    "          [x2]]\n",
    "\n",
    "to find nullspace of (A-l1) we find the vectors associated with the free variables in rref(A-l1)\n",
    "\n",
    "rref(A-l1) = [[1, 1],\n",
    "              [0, 0]]\n",
    "              \n",
    "In the above rref(A-l1) column 2 has no pivot\n",
    "and hence x2 is a free variable i.e x2 = t\n",
    "\n",
    "=> [[1, 1], x [[x1], = 0\n",
    "    [0, 0]]    [t]]\n",
    "    \n",
    "=> x1 + t = 0\n",
    "=> x1 = -t\n",
    "\n",
    "hence the solution to (A-l1).v1 = 0\n",
    "is v1 = t x [[-1],\n",
    "             [1]]\n",
    "             \n",
    "hence [-1, 1] is an eigenvector associated with l1 = 1\n",
    "\n",
    "Similarly, A-l2 = [[-1, 1],\n",
    "                   [1, -1]]\n",
    "                   \n",
    "rref(A-l2) = [[1, -1],\n",
    "              [0, 0]]\n",
    "              \n",
    "which has one free variable associated with column 2\n",
    "solving we get x1 = t\n",
    "hence the solution to (A-l2).v2 = 0\n",
    "is v2 = t x [[1],\n",
    "             [1]]\n",
    "             \n",
    "hence [1, 1] is an eigenvector associated with l2 = 3"
   ]
  },
  {
   "cell_type": "raw",
   "metadata": {},
   "source": [
    "This is verified using sympy below"
   ]
  },
  {
   "cell_type": "code",
   "execution_count": 8,
   "metadata": {},
   "outputs": [],
   "source": [
    "from sympy.matrices import Matrix"
   ]
  },
  {
   "cell_type": "code",
   "execution_count": 9,
   "metadata": {},
   "outputs": [],
   "source": [
    "A = Matrix([[2, 1],\n",
    "            [1, 2]])"
   ]
  },
  {
   "cell_type": "code",
   "execution_count": 10,
   "metadata": {},
   "outputs": [
    {
     "data": {
      "text/plain": [
       "{3: 1, 1: 1}"
      ]
     },
     "execution_count": 10,
     "metadata": {},
     "output_type": "execute_result"
    }
   ],
   "source": [
    "A.eigenvals()"
   ]
  },
  {
   "cell_type": "code",
   "execution_count": 11,
   "metadata": {},
   "outputs": [
    {
     "data": {
      "text/plain": [
       "[(1,\n",
       "  1,\n",
       "  [Matrix([\n",
       "   [-1],\n",
       "   [ 1]])]),\n",
       " (3,\n",
       "  1,\n",
       "  [Matrix([\n",
       "   [1],\n",
       "   [1]])])]"
      ]
     },
     "execution_count": 11,
     "metadata": {},
     "output_type": "execute_result"
    }
   ],
   "source": [
    "A.eigenvects()"
   ]
  },
  {
   "cell_type": "markdown",
   "metadata": {},
   "source": [
    "Hence Verified"
   ]
  },
  {
   "cell_type": "code",
   "execution_count": 13,
   "metadata": {},
   "outputs": [],
   "source": [
    "# diagonalizing  using sympy\n",
    "#PDP-1\n",
    "\n",
    "P, D = A.diagonalize()"
   ]
  },
  {
   "cell_type": "code",
   "execution_count": 14,
   "metadata": {},
   "outputs": [
    {
     "data": {
      "text/latex": [
       "$\\displaystyle \\left[\\begin{matrix}-1 & 1\\\\1 & 1\\end{matrix}\\right]$"
      ],
      "text/plain": [
       "Matrix([\n",
       "[-1, 1],\n",
       "[ 1, 1]])"
      ]
     },
     "execution_count": 14,
     "metadata": {},
     "output_type": "execute_result"
    }
   ],
   "source": [
    "P"
   ]
  },
  {
   "cell_type": "code",
   "execution_count": 15,
   "metadata": {},
   "outputs": [
    {
     "data": {
      "text/latex": [
       "$\\displaystyle \\left[\\begin{matrix}1 & 0\\\\0 & 3\\end{matrix}\\right]$"
      ],
      "text/plain": [
       "Matrix([\n",
       "[1, 0],\n",
       "[0, 3]])"
      ]
     },
     "execution_count": 15,
     "metadata": {},
     "output_type": "execute_result"
    }
   ],
   "source": [
    "D"
   ]
  },
  {
   "cell_type": "markdown",
   "metadata": {},
   "source": [
    "#### Normal Matrices"
   ]
  },
  {
   "cell_type": "raw",
   "metadata": {},
   "source": [
    "If A is a normal matrix i.e (A.T).A = A.(A.T),\n",
    "prove that if l is an eigenvalue of A then l is also an eigenvalue of A.T"
   ]
  },
  {
   "cell_type": "raw",
   "metadata": {},
   "source": [
    "NOT COMPLETE - GET BACK TO IT LATER\n",
    "\n",
    "A.v = lv where v is an eigenvector with eigenvalue l\n",
    "=> (A.T).A.v = l.(A.T).v\n",
    "=> A.(A.T).v = l.(A.T).v"
   ]
  }
 ],
 "metadata": {
  "kernelspec": {
   "display_name": "Python 3",
   "language": "python",
   "name": "python3"
  },
  "language_info": {
   "codemirror_mode": {
    "name": "ipython",
    "version": 3
   },
   "file_extension": ".py",
   "mimetype": "text/x-python",
   "name": "python",
   "nbconvert_exporter": "python",
   "pygments_lexer": "ipython3",
   "version": "3.7.7"
  }
 },
 "nbformat": 4,
 "nbformat_minor": 4
}
