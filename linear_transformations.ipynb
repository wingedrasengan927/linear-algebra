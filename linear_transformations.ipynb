{
 "cells": [
  {
   "cell_type": "markdown",
   "metadata": {},
   "source": [
    "## Linear Transformations"
   ]
  },
  {
   "cell_type": "markdown",
   "metadata": {},
   "source": [
    "#### Problem 1"
   ]
  },
  {
   "cell_type": "raw",
   "metadata": {},
   "source": [
    "Consider the transformation T(x, y, z) = (y + z, x + z, x + y).\n",
    "Find the domain, codomain, kernel, and image space of T. Is T\n",
    "injective, surjective, or bijective?"
   ]
  },
  {
   "cell_type": "raw",
   "metadata": {},
   "source": [
    "This refers to the standard x, y, z coordinate axes,\n",
    "hence the basis are {[1, 0, 0], [0, 1, 0], [0, 0, 1]}\n",
    "and domain would be span{[1, 0, 0], [0, 1, 0], [0, 0, 1]}\n",
    "\n",
    "To find the linear transformation matrix M, we find the transformation of\n",
    "each basis vector and represent the output as a column vector in M.\n",
    "\n",
    "=> T(1, 0, 0) = (0, 1, 1) - column 1\n",
    "=> T(0, 1, 0) = (1, 0, 1) - column 2\n",
    "=> T(0, 0, 1) = (1, 1, 0) - column 3\n",
    "\n",
    "=> M = [[0, 1, 1],\n",
    "        [1, 0, 1],\n",
    "        [1, 1, 0]]\n",
    "        \n",
    "image space would be C(M) =>  span{[0, 1, 1], [1, 0, 1], [1, 1, 0]}\n",
    "\n",
    "=> We remember that to find kernel of T, we have to find the solution set of \n",
    "M.v = 0; and the way we did was to convert M to rref and check the number of free variables\n",
    "in rref(M)\n",
    "\n",
    "we get rref of M as [[1, 0, 0],\n",
    "                     [0, 1, 0],\n",
    "                     [0, 0, 1]]\n",
    "                     \n",
    "We observe that rref of M has no free variables; hence kernel of T is {0}\n",
    "=> T is injective\n",
    "\n",
    "We also observe that T is surjective\n",
    "\n",
    "Hence, T is bijective."
   ]
  },
  {
   "cell_type": "markdown",
   "metadata": {},
   "source": [
    "### Invertible Matrix"
   ]
  },
  {
   "cell_type": "markdown",
   "metadata": {},
   "source": [
    "#### Problem 2"
   ]
  },
  {
   "cell_type": "raw",
   "metadata": {},
   "source": [
    "If A is an Matrix of dim nxn, prove that if columns of A form a basis for Vector space V of dim n, A is invertible"
   ]
  },
  {
   "cell_type": "raw",
   "metadata": {},
   "source": [
    "If columns of A form a basis for V => rows of A.T form a basis for V.\n",
    "=> rref(A.T) is an Identity matrix of dim n.\n",
    "=> This means that series of row operations can be performed to reduce A.T to an Identity Matrix\n",
    "=> Let E1, E2, E3, ..Ek be the matrices assocaited with row operations R1, R2, R3, ..Rk.\n",
    "=> E1.E2.E3...Ek.(A.T) = I\n",
    "=> A.T = inv(E1.E2.E3 ..Ek)\n",
    "\n",
    "Hence it means that A.T is Invertible,\n",
    "we know that A is Invertible only if A.T is invertible and vice-versa\n",
    "\n",
    "Hence Proved"
   ]
  },
  {
   "cell_type": "markdown",
   "metadata": {},
   "source": [
    "#### Problem 3"
   ]
  },
  {
   "cell_type": "raw",
   "metadata": {},
   "source": [
    "If the equation A.x = b has exactly one solution for each b belongs to Rn, prove that A is invertible"
   ]
  },
  {
   "cell_type": "raw",
   "metadata": {},
   "source": [
    "If A.x = b has exactly one solution, it means the null space of C(A) is empty {0},\n",
    "It means C(A) form the basis for vector space Rn,\n",
    "And as we have proved above, if C(A) is a basis for Rn, then A is invertible"
   ]
  },
  {
   "cell_type": "markdown",
   "metadata": {},
   "source": [
    "#### Problem 4"
   ]
  },
  {
   "cell_type": "raw",
   "metadata": {},
   "source": [
    "Find image space Im(T) for the linear transformation T : R2 -> R3,\n",
    "defined by T(x, y) = (x, x - y, 2y). You are given the standard basis Bs = {[1, 0], [0, 1]}"
   ]
  },
  {
   "cell_type": "raw",
   "metadata": {},
   "source": [
    "we'll use the probing technique to find the transfomation matrix M by constructing \n",
    "its columns with Images of basis vectors T([1, 0]) and T([0, 1]) \n",
    "\n",
    "=> T([1, 0]) = [1, 1, 0]\n",
    "   T([0, 1]) = [0, -1, 2]\n",
    "   \n",
    "Hence transformation matric M is [[1, 0],\n",
    "                                  [1, -1],\n",
    "                                  [0, 2]]\n",
    "                                  \n",
    "and Im(T) = span{[1, 1, 0], [0, -1, 2]}"
   ]
  },
  {
   "cell_type": "markdown",
   "metadata": {},
   "source": [
    "#### Problem 5 - Get Back Here"
   ]
  },
  {
   "cell_type": "raw",
   "metadata": {},
   "source": [
    "Let V be the vector space consisting of all functions of the form\n",
    "a1*exp(2x)*cos(x) + a2*exp(2x)*sin(x). Consider the following linear transformation L :\n",
    "V -> V , L(f) = f +f`. Find the matrix representing L with respect to the\n",
    "basis {exp(2x)*cos(x), exp(2x)*sin(x)}"
   ]
  },
  {
   "cell_type": "raw",
   "metadata": {},
   "source": [
    "let v1 = exp(2x)*cos(x) and v2 = exp(2x)*sin(x),\n",
    "given that any vector can be represented as a1.v1 + a2.v2\n",
    "hence we can say that v1, v2 form the basis of V\n",
    "\n",
    "Since we want the transformation matrix in the same basis, we can simply use the probing technique to find L(v1) and L(v2) where v1, v2 are basis vectors exp(2x)*cos(x), exp(2x)*sin(x), and represent the outputs as columns of the transformation matrix M\n",
    "\n",
    "(fg)` = f`g + fg`\n",
    "exp(ax)` = aexp(ax)\n",
    "cos`x = -sinx\n",
    "sin`x = cosx\n",
    "\n",
    "L(f) = f + f`\n",
    "\n",
    "=> L(exp(2x)*cos(x)) = exp(2x)*cos(x) + 2*exp(2x)*cos(x) - exp(2x)*sin(x) = 3*exp(2x)*cos(x) - exp(2x)*sin(x) \n",
    "   L(exp(2x)*sin(x)) = exp(2x)*sin(x) + 2*exp(2x)*sin(x) + exp(2x)*cos(x) = exp(2x)*cos(x) + 3*exp(2x)*sin(x)\n",
    "   \n",
    "=> L(v1) = 3.v1 - v2\n",
    "   L(v2) = 1.v1 + 3.v2\n",
    "   \n",
    "Hence we can now find the transformation by representing [3 -1] and [1 3] as column vectors in the transformation matrix\n",
    "                          \n",
    "M = [[3, 1],\n",
    "     [-1, 3]]\n",
    "     \n",
    "Verification with example\n",
    "----------------------------\n",
    "v1 = exp(2x)*cos(x) and v2 = exp(2x)*sin(x) are the basis.\n",
    "=> any vector can be represented as a1.v1 + a2.v2\n",
    "\n",
    "say we have a vector a = [3, 1] wrt basis (v1, v2) i.e a1 = 3 and a2 = 1\n",
    "If we apply linear transformation of this vector L(a) we get:\n",
    "L(f) = f + f`\n",
    "     = (3*(exp(2x)*cos(x) + exp(2x)*sin(x)) + (3*(exp(2x)*cos(x) + exp(2x)*sin(x))`\n",
    "     = (3*(exp(2x)*cos(x) + exp(2x)*sin(x)) + 3*(2*exp(2x)*cos(x) - exp(2x)*sin(x)) + 2*exp(2x)*sin(x) + exp(2x)*cos(x)\n",
    "     = 10*exp(2x)*cos(x) + 0\n",
    "     = 10.v1 + 0.v2\n",
    "     = [10, 0] wrt basis (v1, v2)\n",
    "     \n",
    "If we multiply [3, 1] with our transformation matrix, we get [[3, 1], x   [[3], = [[10],\n",
    "                                                               [-1, 3]]     [1]]    [0]]\n",
    "                                                               \n",
    "which is the same thing we got above when computed manually,\n",
    "\n",
    "hence verified"
   ]
  },
  {
   "cell_type": "markdown",
   "metadata": {},
   "source": [
    "##### Approach 2"
   ]
  },
  {
   "cell_type": "raw",
   "metadata": {},
   "source": [
    "let v1 = exp(2x)*cos(x) and v2 = exp(2x)*sin(x),\n",
    "given that any vector can be represented as a1.v1 + a2.v2\n",
    "hence we can say that v1, v2 form the basis of the vector space.\n",
    "basis = {[exp(2x)*cos(x), 0], [0, exp(2x)*sin(x)]}\n",
    "\n",
    "Let W be the vector space with basis v1, v2 and V represent the standard vector space with basis {[1, 0], [0, 1]}\n",
    "\n",
    "The change of basis matrix is P = [[exp(2x)*cos(x), 0],\n",
    "                                   [0, exp(2x)*sin(x)]]\n",
    "                                   \n",
    "                                   \n",
    "that is, say if I have a vector v = [3, 1] in W, and I want to represent this in V, then I multiply it with P\n",
    "=> P.v = [[3*exp(2x)*cos(x)],\n",
    "          [1*exp(2x)*sin(x)]]\n",
    "          \n",
    "Now first we find the linear transformation matrix in V which is given by L(f) = f + f` wrt the original basis {[1, 0], [0, 1]}\n",
    "To do so, we use the probing technique i.e find the transformation of basis vectors and put the output as columns in the linear transformation matrix.\n",
    "\n",
    "=> L([1, 0]) = f([1, 0]) + f`([1, 0])\n",
    "   = exp(2x)*cos(x) + 2*exp(2x)*cos(x) - exp(2x)*sin(x)\n",
    "   = 3*exp(2x)*cos(x) - exp(2x)*sin(x) \n",
    "   \n",
    "and L([0, 1]) = f([0, 1]) + f`([0, 1])\n",
    "   = exp(2x)*sin(x) + 2*exp(2x)*sin(x) + exp(2x)*cos(x)\n",
    "   = exp(2x)*cos(x) + 3*exp(2x)*sin(x)\n",
    "   \n",
    "Hence the linear transformation matrix wrt to {[1, 0], [0, 1]} is given by:\n",
    "\n",
    "N = [[3*exp(2x)*cos(x), exp(2x)*cos(x)],\n",
    "     [-exp(2x)*sin(x), 3*exp(2x)*sin(x)]]\n",
    "     \n",
    "Now the liear transformation matrix wrt to basis {v1, v2} is given by P.inv.N.P\n",
    "where P is the change of basis matrix and N is the linear transformation matrix wrt {[1, 0], [0, 1]}\n",
    "\n",
    "That is, we take a matrix wrt basis {v1, v2} transform it using P to represent it with basis {i, j} where i=[1, 0] and j=[0, 1]\n",
    "Then apply linear transformation wrt to basis {i, j}\n",
    "and convert it back to represent it with basis {v1, v2}\n",
    "\n",
    "let's calculate P.inv\n",
    "Inverse f a 2x2 matrix [[a, b], is 1/det(A) * [[d, -b],\n",
    "                        [c, d]]                [-c, a]]\n",
    "det(P) = exp(4x)*cos(x)*sin(x)\n",
    "P.inv = [[exp(-2x)/cos(x), 0],\n",
    "         [0, exp(-2x)/sin(x)]]\n",
    "         \n",
    "We can confirm this as P.P.inv = I\n",
    "\n",
    "now, P.inv.N = \n",
    "[[3, 1],\n",
    " [-1, 3]]\n",
    " \n",
    "\n",
    "now, P.inv.N.P = [[3*exp(2x)*cos(x), exp(2x)*sin(x)],\n",
    "                  [-exp(2x)*cos(x), 3*exp(2x)*sin(x)]]"
   ]
  }
 ],
 "metadata": {
  "kernelspec": {
   "display_name": "Python 3",
   "language": "python",
   "name": "python3"
  },
  "language_info": {
   "codemirror_mode": {
    "name": "ipython",
    "version": 3
   },
   "file_extension": ".py",
   "mimetype": "text/x-python",
   "name": "python",
   "nbconvert_exporter": "python",
   "pygments_lexer": "ipython3",
   "version": "3.7.7"
  }
 },
 "nbformat": 4,
 "nbformat_minor": 4
}
