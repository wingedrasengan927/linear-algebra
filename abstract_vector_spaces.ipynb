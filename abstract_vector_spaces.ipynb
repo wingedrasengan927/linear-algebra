{
 "cells": [
  {
   "cell_type": "markdown",
   "metadata": {},
   "source": [
    "### Abstract Vector Spaces"
   ]
  },
  {
   "cell_type": "markdown",
   "metadata": {},
   "source": [
    "#### Problem 1"
   ]
  },
  {
   "cell_type": "raw",
   "metadata": {},
   "source": [
    "Consider an arbitrary matrix A belongs to R(2x2) and its representation\n",
    "as a vector of coefficients with respect to Bs: A = (a11, a12, a21, a22)Bs.\n",
    "Suppose we want to compute the matrix trace operation in terms of\n",
    "the vector dot product. What vector v belongs to R(4) makes this equation true\n",
    "Tr(A) = v.A?"
   ]
  },
  {
   "cell_type": "raw",
   "metadata": {},
   "source": [
    "Get back and get more clarity"
   ]
  },
  {
   "cell_type": "raw",
   "metadata": {},
   "source": [
    "In it's R(4) representation, A=(a11, a12, a13, a14)Bs\n",
    "tr(A) = a11 + a14\n",
    "      = a11.1 + 0.a12 + 0.a13 + 1.a14\n",
    "hence v = (1, 0, 0, 1)Bs"
   ]
  },
  {
   "cell_type": "markdown",
   "metadata": {},
   "source": [
    "#### Problem 2"
   ]
  },
  {
   "cell_type": "raw",
   "metadata": {},
   "source": [
    "Find the dimension of the vector space of functions that satisfy\n",
    "f`(t) + f(t) = 0"
   ]
  },
  {
   "cell_type": "raw",
   "metadata": {},
   "source": [
    "The answer is f(t) = C*exp(-t) where C is an arbitary constant\n",
    "since f`(exp(-t)) = -exp(-t) and hence f`(t) + f(t) = 0\n",
    "\n",
    "Since any solution to the above equation f`(t) + f(t) = 0 can be written as C*exp(-t),\n",
    "we say the solution space is spanned by exp(-t). \n",
    "Since the space is spanned by only one function, the dimension is 1"
   ]
  },
  {
   "cell_type": "markdown",
   "metadata": {},
   "source": [
    "#### Problem 3"
   ]
  },
  {
   "cell_type": "raw",
   "metadata": {},
   "source": [
    "Can every polynomial of degree at most 2 be written in the\n",
    "form a + b(x-1) + c(x-1)**2"
   ]
  },
  {
   "cell_type": "raw",
   "metadata": {},
   "source": [
    "Consider an arbitary polynomial of degree 2 :\n",
    "a0 + a1.x + a2.x**2\n",
    "\n",
    "This can be written as:\n",
    "a0 + a1[(x-1) + 1] + a2[(x-1)+1]**2\n",
    "= a0 + a1 + a1(x-1) + a2(x-1)**2 + a2 + 2a2(x-1)\n",
    "= (a0 + a1 + a2) + (a1 + 2a2)[x-1] + a2(x-1)**2\n",
    "\n",
    "Hence, every polynomial of degree at most 2 can be written in the form of a + b(x-1) + c(x-1)**2.\n",
    "We can also say that the vector space of polynomials of degree atmost 2\n",
    "is spanned by {1, (x-1), (x-1)**2}"
   ]
  },
  {
   "cell_type": "markdown",
   "metadata": {},
   "source": [
    "### Gram Schmidt Orthogonalization"
   ]
  },
  {
   "cell_type": "markdown",
   "metadata": {},
   "source": [
    "Khan academy video: https://www.youtube.com/watch?v=rHonltF77zI"
   ]
  },
  {
   "cell_type": "code",
   "execution_count": 1,
   "metadata": {},
   "outputs": [],
   "source": [
    "import numpy as np\n",
    "import math"
   ]
  },
  {
   "cell_type": "code",
   "execution_count": 2,
   "metadata": {},
   "outputs": [],
   "source": [
    "def magnitude(u):\n",
    "    '''\n",
    "    Find the magnitude of the vector\n",
    "    '''\n",
    "    return math.sqrt(u@u)"
   ]
  },
  {
   "cell_type": "code",
   "execution_count": 3,
   "metadata": {},
   "outputs": [],
   "source": [
    "def projection(u, v):\n",
    "    '''\n",
    "    Get the projection of u onto v\n",
    "    '''\n",
    "    mag_v = magnitude(v)\n",
    "    projection = (u@v)*v/mag_v**2\n",
    "    return projection"
   ]
  },
  {
   "cell_type": "code",
   "execution_count": 5,
   "metadata": {},
   "outputs": [],
   "source": [
    "def projection_unit(u, v):\n",
    "    '''\n",
    "    Get the projection of u onto v given that v is a unit vector\n",
    "    '''\n",
    "    projection = (u@v)*v\n",
    "    return projection"
   ]
  },
  {
   "cell_type": "code",
   "execution_count": 4,
   "metadata": {},
   "outputs": [],
   "source": [
    "def normalize_vector(u):\n",
    "    '''\n",
    "    Convert vector to unit vector\n",
    "    '''\n",
    "    mag_u = magnitude(u)\n",
    "    return u / mag_u"
   ]
  },
  {
   "cell_type": "markdown",
   "metadata": {},
   "source": [
    "#### Problem 1"
   ]
  },
  {
   "cell_type": "raw",
   "metadata": {},
   "source": [
    "Convert the vectors v1 = (4, 2) and v2 = (1, 3) into an orthogonal\n",
    "basis for R2."
   ]
  },
  {
   "cell_type": "raw",
   "metadata": {},
   "source": [
    "We start with a subspace spanned by a single vector v1 and build orthogonal subspaces from there.\n",
    "\n",
    "let e1 be the unit vector of v1\n",
    "=> e2 = unit vector of v2 - projection of v2 on e1\n",
    "\n",
    "hence e1, e2 are orthonormal basis for the subspace spanned by {v1, v2}\n",
    "calculations below"
   ]
  },
  {
   "cell_type": "code",
   "execution_count": 64,
   "metadata": {},
   "outputs": [],
   "source": [
    "v1 = np.array([4, 2])\n",
    "v2 = np.array([1, 3])"
   ]
  },
  {
   "cell_type": "code",
   "execution_count": 65,
   "metadata": {},
   "outputs": [],
   "source": [
    "e1 = normalize_vector(v1)"
   ]
  },
  {
   "cell_type": "code",
   "execution_count": 66,
   "metadata": {},
   "outputs": [],
   "source": [
    "# projection of v2 onto e1\n",
    "proj_v2 = projection_unit(v2, e1)"
   ]
  },
  {
   "cell_type": "code",
   "execution_count": 67,
   "metadata": {},
   "outputs": [],
   "source": [
    "perp_proj_v2 = v2 - proj_v2"
   ]
  },
  {
   "cell_type": "code",
   "execution_count": 68,
   "metadata": {},
   "outputs": [],
   "source": [
    "e2 = normalize_vector(perp_proj_v2)"
   ]
  },
  {
   "cell_type": "code",
   "execution_count": 69,
   "metadata": {},
   "outputs": [
    {
     "data": {
      "text/plain": [
       "(array([0.89442719, 0.4472136 ]), array([-0.4472136 ,  0.89442719]))"
      ]
     },
     "execution_count": 69,
     "metadata": {},
     "output_type": "execute_result"
    }
   ],
   "source": [
    "# answer\n",
    "e1, e2"
   ]
  },
  {
   "cell_type": "code",
   "execution_count": 70,
   "metadata": {},
   "outputs": [
    {
     "data": {
      "text/plain": [
       "0.0"
      ]
     },
     "execution_count": 70,
     "metadata": {},
     "output_type": "execute_result"
    }
   ],
   "source": [
    "# we can also verify that e1.e2 = 0 and e1.e1 = 1\n",
    "np.round(e1@e2)"
   ]
  },
  {
   "cell_type": "code",
   "execution_count": 71,
   "metadata": {},
   "outputs": [
    {
     "data": {
      "text/plain": [
       "1.0"
      ]
     },
     "execution_count": 71,
     "metadata": {},
     "output_type": "execute_result"
    }
   ],
   "source": [
    "np.round(e1@e1)"
   ]
  },
  {
   "cell_type": "markdown",
   "metadata": {},
   "source": [
    "#### Problem 2"
   ]
  },
  {
   "cell_type": "raw",
   "metadata": {},
   "source": [
    "Perform the Gram–Schmidt orthogonalization procedure on\n",
    "the vectors v1 = (1, 1, 0), v2 = (1, 0, 1), and v3 = (0, 1, 1) to obtain an\n",
    "orthonormal basis."
   ]
  },
  {
   "cell_type": "raw",
   "metadata": {},
   "source": [
    "Same procedure as above"
   ]
  },
  {
   "cell_type": "code",
   "execution_count": 74,
   "metadata": {},
   "outputs": [],
   "source": [
    "v1 = np.array([1, 1, 0])\n",
    "v2 = np.array([1, 0, 1])\n",
    "v3 = np.array([0, 1, 1])"
   ]
  },
  {
   "cell_type": "code",
   "execution_count": 75,
   "metadata": {},
   "outputs": [],
   "source": [
    "e1 = normalize_vector(v1)"
   ]
  },
  {
   "cell_type": "code",
   "execution_count": 77,
   "metadata": {},
   "outputs": [],
   "source": [
    "proj_v2_e1 = projection_unit(v2, e1)"
   ]
  },
  {
   "cell_type": "code",
   "execution_count": 78,
   "metadata": {},
   "outputs": [],
   "source": [
    "e2 = normalize_vector(v2 - proj_v2_e1)"
   ]
  },
  {
   "cell_type": "code",
   "execution_count": 79,
   "metadata": {},
   "outputs": [],
   "source": [
    "proj_v3_e1 = projection_unit(v3, e1)\n",
    "proj_v3_e2 = projection_unit(v3, e2)"
   ]
  },
  {
   "cell_type": "code",
   "execution_count": 80,
   "metadata": {},
   "outputs": [],
   "source": [
    "e3 = normalize_vector(v3 - proj_v3_e1 - proj_v3_e2)"
   ]
  },
  {
   "cell_type": "code",
   "execution_count": 82,
   "metadata": {},
   "outputs": [
    {
     "data": {
      "text/plain": [
       "(array([0.70710678, 0.70710678, 0.        ]),\n",
       " array([ 0.40824829, -0.40824829,  0.81649658]),\n",
       " array([-0.57735027,  0.57735027,  0.57735027]))"
      ]
     },
     "execution_count": 82,
     "metadata": {},
     "output_type": "execute_result"
    }
   ],
   "source": [
    "# answer\n",
    "e1, e2 , e3"
   ]
  },
  {
   "cell_type": "code",
   "execution_count": 84,
   "metadata": {},
   "outputs": [
    {
     "name": "stdout",
     "output_type": "stream",
     "text": [
      "0.0\n",
      "-0.0\n",
      "0.0\n"
     ]
    }
   ],
   "source": [
    "# verification\n",
    "print(np.round(e1@e2))\n",
    "print(np.round(e2@e3))\n",
    "print(np.round(e1@e3))"
   ]
  },
  {
   "cell_type": "code",
   "execution_count": 85,
   "metadata": {},
   "outputs": [
    {
     "name": "stdout",
     "output_type": "stream",
     "text": [
      "1.0\n",
      "1.0\n",
      "1.0\n"
     ]
    }
   ],
   "source": [
    "print(np.round(e1@e1))\n",
    "print(np.round(e2@e2))\n",
    "print(np.round(e3@e3))"
   ]
  },
  {
   "cell_type": "code",
   "execution_count": null,
   "metadata": {},
   "outputs": [],
   "source": []
  }
 ],
 "metadata": {
  "kernelspec": {
   "display_name": "Python 3",
   "language": "python",
   "name": "python3"
  },
  "language_info": {
   "codemirror_mode": {
    "name": "ipython",
    "version": 3
   },
   "file_extension": ".py",
   "mimetype": "text/x-python",
   "name": "python",
   "nbconvert_exporter": "python",
   "pygments_lexer": "ipython3",
   "version": "3.7.7"
  }
 },
 "nbformat": 4,
 "nbformat_minor": 4
}
